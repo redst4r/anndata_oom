{
 "cells": [
  {
   "cell_type": "code",
   "execution_count": 1,
   "id": "14f24975-bcbe-46cc-9637-45447fd31204",
   "metadata": {},
   "outputs": [],
   "source": [
    "import scanpy as sc\n",
    "import pandas as pd\n",
    "import numpy as np\n",
    "import sys\n",
    "import h5py\n",
    "from anndata_oom.oom import oom_smooth\n",
    "sys.path.append('/home/michi/ms_python_packages/scPySingscore/')\n",
    "from scsingscore.scsingscore_ms import nn_smoothing"
   ]
  },
  {
   "cell_type": "markdown",
   "id": "c8b68202-a4ac-4c2b-988d-1685f7f5356c",
   "metadata": {},
   "source": [
    "# basic test that the in memory smoothing agrees with out of memory smoothing\n",
    "\n",
    "## done on the entire datamatrix"
   ]
  },
  {
   "cell_type": "code",
   "execution_count": 2,
   "id": "9ebe1d16-dffa-4723-aac2-2be69a5e97e6",
   "metadata": {},
   "outputs": [],
   "source": [
    "h5adfile = '/home/michi/mounts/TB4drive/TabulaSapiens/TS_Bone_Marrow.h5ad'\n",
    "adata = sc.read_h5ad(h5adfile)\n",
    "f = h5py.File(h5adfile, 'r')"
   ]
  },
  {
   "cell_type": "markdown",
   "id": "e322a80e-4fce-4c37-b95e-6808a7e1e821",
   "metadata": {},
   "source": [
    "OOM smoothing the entire matrix"
   ]
  },
  {
   "cell_type": "code",
   "execution_count": 4,
   "id": "17114765-fe13-4dd7-8ad4-032bab605b9f",
   "metadata": {
    "tags": []
   },
   "outputs": [
    {
     "name": "stderr",
     "output_type": "stream",
     "text": [
      "100%|██████████| 10/10 [00:57<00:00,  5.73s/it]\n"
     ]
    }
   ],
   "source": [
    "T = oom_smooth(f, range(12297), BATCHSIZE=1300, add_self=True)"
   ]
  },
  {
   "cell_type": "markdown",
   "id": "728b09b1-9359-44ed-81c6-9c57507da2b9",
   "metadata": {},
   "source": [
    "smoothing in memory"
   ]
  },
  {
   "cell_type": "code",
   "execution_count": 5,
   "id": "74aa10d6-b017-4183-9fd3-86034ba0cfe0",
   "metadata": {
    "tags": []
   },
   "outputs": [],
   "source": [
    "X = adata.X\n",
    "S = nn_smoothing(adata.X, adata, mode='connectivity', samp_neighbors=0, add_diag=True)"
   ]
  },
  {
   "cell_type": "code",
   "execution_count": 6,
   "id": "37bf483e-87c9-40a3-9da6-f11eb3c884c7",
   "metadata": {},
   "outputs": [],
   "source": [
    "assert (S != T).nnz == 0 , \"S and T are not identical\""
   ]
  },
  {
   "cell_type": "markdown",
   "id": "6d5afe7b-8322-4fb4-a28d-d0a0fe9a78fd",
   "metadata": {},
   "source": [
    "## subset of cells"
   ]
  },
  {
   "cell_type": "code",
   "execution_count": 7,
   "id": "3f755d9a-6293-46b1-ae50-8761f15d987c",
   "metadata": {},
   "outputs": [],
   "source": [
    "cells  = np.random.choice(adata.shape[0], 5000)"
   ]
  },
  {
   "cell_type": "code",
   "execution_count": 8,
   "id": "5e0e07d1-ace4-449b-9bd7-6079b4388e7e",
   "metadata": {},
   "outputs": [
    {
     "name": "stderr",
     "output_type": "stream",
     "text": [
      "100%|██████████| 50/50 [01:40<00:00,  2.01s/it]\n"
     ]
    }
   ],
   "source": [
    "Tsub = oom_smooth(f, cells, BATCHSIZE=100, add_self=True)"
   ]
  },
  {
   "cell_type": "code",
   "execution_count": 9,
   "id": "79c6146b-962a-4fba-85d4-a610ca050180",
   "metadata": {},
   "outputs": [],
   "source": [
    "assert (S[cells] != Tsub).nnz == 0 , \"S and T are not identical\""
   ]
  },
  {
   "cell_type": "code",
   "execution_count": null,
   "id": "a5da0cfd-48b6-4f5e-826c-b67e2cc84014",
   "metadata": {},
   "outputs": [],
   "source": []
  }
 ],
 "metadata": {
  "kernelspec": {
   "display_name": "Python 3 (ipykernel)",
   "language": "python",
   "name": "python3"
  },
  "language_info": {
   "codemirror_mode": {
    "name": "ipython",
    "version": 3
   },
   "file_extension": ".py",
   "mimetype": "text/x-python",
   "name": "python",
   "nbconvert_exporter": "python",
   "pygments_lexer": "ipython3",
   "version": "3.8.10"
  }
 },
 "nbformat": 4,
 "nbformat_minor": 5
}
